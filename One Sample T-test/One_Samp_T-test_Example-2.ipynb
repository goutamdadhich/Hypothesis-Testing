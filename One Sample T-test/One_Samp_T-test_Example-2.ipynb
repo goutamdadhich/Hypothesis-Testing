{
 "cells": [
  {
   "cell_type": "markdown",
   "metadata": {},
   "source": [
    "## A company claims that on an average it takes only 50 hours to process any purchase order. Validate the claim?\n",
    "## Data file  is given in DataSats folder named as PO_Processing.csv\n",
    "## Validate the claim "
   ]
  },
  {
   "cell_type": "code",
   "execution_count": 26,
   "metadata": {},
   "outputs": [],
   "source": [
    "# Hypothesis \n",
    "# Null Hypothesis H0: Mean processing time =40\n",
    "# Alternate Hypothesis H1: Mean processing time != 40"
   ]
  },
  {
   "cell_type": "code",
   "execution_count": 27,
   "metadata": {},
   "outputs": [],
   "source": [
    "import pandas as pd\n",
    "from scipy import stats as st"
   ]
  },
  {
   "cell_type": "code",
   "execution_count": 28,
   "metadata": {},
   "outputs": [],
   "source": [
    "myData=mypanda.read_csv(\".\\DataSets\\PO_Processing.csv\")\n",
    "#myData"
   ]
  },
  {
   "cell_type": "code",
   "execution_count": 29,
   "metadata": {},
   "outputs": [
    {
     "name": "stdout",
     "output_type": "stream",
     "text": [
      "0      49\n",
      "1      46\n",
      "2      56\n",
      "3      56\n",
      "4      68\n",
      "5      46\n",
      "6      65\n",
      "7      21\n",
      "8      10\n",
      "9      26\n",
      "10     35\n",
      "11     25\n",
      "12     54\n",
      "13    105\n",
      "14      2\n",
      "15     39\n",
      "16     92\n",
      "17     44\n",
      "18     30\n",
      "19     36\n",
      "20     42\n",
      "21     43\n",
      "22     83\n",
      "23     68\n",
      "24     45\n",
      "25    102\n",
      "26      5\n",
      "27     54\n",
      "28     20\n",
      "29     52\n",
      "     ... \n",
      "70     39\n",
      "71     61\n",
      "72     93\n",
      "73     48\n",
      "74      3\n",
      "75     55\n",
      "76     26\n",
      "77     61\n",
      "78     55\n",
      "79     77\n",
      "80     51\n",
      "81     50\n",
      "82      2\n",
      "83     60\n",
      "84     44\n",
      "85     41\n",
      "86     10\n",
      "87     57\n",
      "88     47\n",
      "89     55\n",
      "90      1\n",
      "91     61\n",
      "92     60\n",
      "93      4\n",
      "94     51\n",
      "95     36\n",
      "96     37\n",
      "97     12\n",
      "98     42\n",
      "99     72\n",
      "Name: Processing_Time, Length: 100, dtype: int64\n"
     ]
    }
   ],
   "source": [
    "PT=myData.Processing_Time\n",
    "print(PT)"
   ]
  },
  {
   "cell_type": "code",
   "execution_count": 30,
   "metadata": {},
   "outputs": [
    {
     "name": "stdout",
     "output_type": "stream",
     "text": [
      "Ttest_1sampResult(statistic=-0.41146108653630215, pvalue=0.6816238747747592)\n"
     ]
    }
   ],
   "source": [
    "result = st.ttest_1samp(PT,50)\n",
    "print(result)"
   ]
  },
  {
   "cell_type": "code",
   "execution_count": 31,
   "metadata": {},
   "outputs": [
    {
     "name": "stdout",
     "output_type": "stream",
     "text": [
      "P Value is = 0.6816238747747592\n"
     ]
    }
   ],
   "source": [
    "p_val = result.pvalue\n",
    "print('P Value is =', p_val)"
   ]
  },
  {
   "cell_type": "code",
   "execution_count": 32,
   "metadata": {},
   "outputs": [
    {
     "name": "stdout",
     "output_type": "stream",
     "text": [
      "H0 is accepted.\n"
     ]
    }
   ],
   "source": [
    "if p_val >= 0.05:\n",
    "    print(\"H0 is accepted.\")\n",
    "else:\n",
    "    print('H0 is not accepted.')"
   ]
  },
  {
   "cell_type": "code",
   "execution_count": 33,
   "metadata": {
    "scrolled": true
   },
   "outputs": [
    {
     "data": {
      "text/plain": [
       "49.0"
      ]
     },
     "execution_count": 33,
     "metadata": {},
     "output_type": "execute_result"
    }
   ],
   "source": [
    "PT.mean()"
   ]
  },
  {
   "cell_type": "code",
   "execution_count": 34,
   "metadata": {},
   "outputs": [],
   "source": [
    "#Conclusion is H0 rejected since p > 0.05 ==> Satisfied"
   ]
  },
  {
   "cell_type": "code",
   "execution_count": null,
   "metadata": {
    "collapsed": true
   },
   "outputs": [],
   "source": []
  }
 ],
 "metadata": {
  "kernelspec": {
   "display_name": "Python 3",
   "language": "python",
   "name": "python3"
  },
  "language_info": {
   "codemirror_mode": {
    "name": "ipython",
    "version": 3
   },
   "file_extension": ".py",
   "mimetype": "text/x-python",
   "name": "python",
   "nbconvert_exporter": "python",
   "pygments_lexer": "ipython3",
   "version": "3.7.3"
  }
 },
 "nbformat": 4,
 "nbformat_minor": 2
}
